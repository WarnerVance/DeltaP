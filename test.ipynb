{
 "cells": [
  {
   "metadata": {},
   "cell_type": "code",
   "outputs": [],
   "execution_count": null,
   "source": "from PledgePoints.csvutils import read_csv",
   "id": "89d44ecdcdeb4d07"
  },
  {
   "metadata": {},
   "cell_type": "code",
   "outputs": [],
   "execution_count": null,
   "source": "df = read_csv(\"large_dataset.csv\")",
   "id": "ec17c9876aa54e77"
  },
  {
   "metadata": {
    "ExecuteTime": {
     "end_time": "2025-03-24T05:42:06.861060Z",
     "start_time": "2025-03-24T05:42:06.858102Z"
    }
   },
   "cell_type": "code",
   "source": "len([])",
   "id": "a34b215195cca8a3",
   "outputs": [
    {
     "data": {
      "text/plain": [
       "0"
      ]
     },
     "execution_count": 1,
     "metadata": {},
     "output_type": "execute_result"
    }
   ],
   "execution_count": 1
  },
  {
   "metadata": {},
   "cell_type": "code",
   "outputs": [],
   "execution_count": null,
   "source": "",
   "id": "ed8e53375a539866"
  }
 ],
 "metadata": {
  "kernelspec": {
   "name": "python3",
   "language": "python",
   "display_name": "Python 3 (ipykernel)"
  }
 },
 "nbformat": 5,
 "nbformat_minor": 9
}
